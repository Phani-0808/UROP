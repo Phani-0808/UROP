{
  "nbformat": 4,
  "nbformat_minor": 0,
  "metadata": {
    "colab": {
      "name": "UROP.ipynb",
      "provenance": [],
      "authorship_tag": "ABX9TyN98O78babACKU+KLCl7UKP",
      "include_colab_link": true
    },
    "kernelspec": {
      "name": "python3",
      "display_name": "Python 3"
    },
    "language_info": {
      "name": "python"
    }
  },
  "cells": [
    {
      "cell_type": "markdown",
      "metadata": {
        "id": "view-in-github",
        "colab_type": "text"
      },
      "source": [
        "<a href=\"https://colab.research.google.com/github/8367402189/UROP/blob/main/UROP.ipynb\" target=\"_parent\"><img src=\"https://colab.research.google.com/assets/colab-badge.svg\" alt=\"Open In Colab\"/></a>"
      ]
    },
    {
      "cell_type": "code",
      "metadata": {
        "id": "3tgg6Pr1PGJk"
      },
      "source": [
        "import numpy as np\n",
        "import matplotlib.pyplot as plt\n",
        "from keras.preprocessing.image import ImageDataGenerator\n",
        "from keras.preprocessing import image\n",
        "import keras\n",
        "from keras.models import Sequential\n",
        "from keras.layers import Conv2D, MaxPooling2D, Flatten, Dense, Activation\n",
        "import os\n",
        "import pickle"
      ],
      "execution_count": 1,
      "outputs": []
    },
    {
      "cell_type": "code",
      "metadata": {
        "colab": {
          "base_uri": "https://localhost:8080/"
        },
        "id": "27p8k5zNlrS7",
        "outputId": "c6d1ee6c-608e-4da1-cc70-3444479db4f1"
      },
      "source": [
        "from google.colab import drive\n",
        "drive.mount('/content/drive')"
      ],
      "execution_count": 2,
      "outputs": [
        {
          "output_type": "stream",
          "text": [
            "Mounted at /content/drive\n"
          ],
          "name": "stdout"
        }
      ]
    },
    {
      "cell_type": "code",
      "metadata": {
        "colab": {
          "base_uri": "https://localhost:8080/"
        },
        "id": "_TaA0pA7luFm",
        "outputId": "4eefb582-98f1-4752-b4a6-6cb4908f795e"
      },
      "source": [
        "train_datagen = ImageDataGenerator(rescale = 1./255,\n",
        "                                   shear_range = 0.2,\n",
        "                                   zoom_range = 0.2,\n",
        "                                   horizontal_flip = True)\n",
        "\n",
        "test_datagen = ImageDataGenerator(rescale = 1./255)\n",
        "\n",
        "train_generator = train_datagen.flow_from_directory(\n",
        "    directory = '/content/drive/MyDrive/Training',\n",
        "    target_size = (32,32),\n",
        "    batch_size = 32,\n",
        "    class_mode = 'categorical'\n",
        "\n",
        ")\n",
        "\n",
        "test_generator = test_datagen.flow_from_directory(\n",
        "    directory = '/content/drive/MyDrive/Testing',\n",
        "    target_size = (32,32),\n",
        "    batch_size = 32,\n",
        "    class_mode = 'categorical'\n",
        "\n",
        ")"
      ],
      "execution_count": 3,
      "outputs": [
        {
          "output_type": "stream",
          "text": [
            "Found 501 images belonging to 26 classes.\n",
            "Found 260 images belonging to 26 classes.\n"
          ],
          "name": "stdout"
        }
      ]
    },
    {
      "cell_type": "code",
      "metadata": {
        "colab": {
          "base_uri": "https://localhost:8080/"
        },
        "id": "BdQRen_fmEpV",
        "outputId": "9afdeac2-d100-4eb2-80b4-16f70f6b5f21"
      },
      "source": [
        "model = Sequential()\n",
        "model.add(Conv2D(32, (3, 3), input_shape = (32,32,3), activation = 'relu'))\n",
        "model.add(MaxPooling2D(pool_size = (2, 2)))\n",
        "\n",
        "\n",
        "model.add(Conv2D(32, (3, 3), activation = 'relu'))\n",
        "model.add(MaxPooling2D(pool_size = (2, 2)))\n",
        "\n",
        "model.add(Flatten())\n",
        "model.add(Dense(units = 128, activation = 'relu'))\n",
        "model.add(Dense(units = 26, activation = 'softmax'))\n",
        "\n",
        "\n",
        "model.compile(optimizer = 'adam', loss = 'categorical_crossentropy', metrics = ['accuracy'])\n",
        "\n",
        "model.summary()"
      ],
      "execution_count": 4,
      "outputs": [
        {
          "output_type": "stream",
          "text": [
            "Model: \"sequential\"\n",
            "_________________________________________________________________\n",
            "Layer (type)                 Output Shape              Param #   \n",
            "=================================================================\n",
            "conv2d (Conv2D)              (None, 30, 30, 32)        896       \n",
            "_________________________________________________________________\n",
            "max_pooling2d (MaxPooling2D) (None, 15, 15, 32)        0         \n",
            "_________________________________________________________________\n",
            "conv2d_1 (Conv2D)            (None, 13, 13, 32)        9248      \n",
            "_________________________________________________________________\n",
            "max_pooling2d_1 (MaxPooling2 (None, 6, 6, 32)          0         \n",
            "_________________________________________________________________\n",
            "flatten (Flatten)            (None, 1152)              0         \n",
            "_________________________________________________________________\n",
            "dense (Dense)                (None, 128)               147584    \n",
            "_________________________________________________________________\n",
            "dense_1 (Dense)              (None, 26)                3354      \n",
            "=================================================================\n",
            "Total params: 161,082\n",
            "Trainable params: 161,082\n",
            "Non-trainable params: 0\n",
            "_________________________________________________________________\n"
          ],
          "name": "stdout"
        }
      ]
    },
    {
      "cell_type": "code",
      "metadata": {
        "colab": {
          "base_uri": "https://localhost:8080/"
        },
        "id": "a3K-dHzZmIuV",
        "outputId": "69270d58-be1d-40c6-bc5d-74df5926fe29"
      },
      "source": [
        "model.fit_generator(train_generator,\n",
        "                         steps_per_epoch = 16,\n",
        "                         epochs = 3,\n",
        "                         validation_data = test_generator,\n",
        "                         validation_steps = 16)"
      ],
      "execution_count": 5,
      "outputs": [
        {
          "output_type": "stream",
          "text": [
            "/usr/local/lib/python3.7/dist-packages/tensorflow/python/keras/engine/training.py:1844: UserWarning: `Model.fit_generator` is deprecated and will be removed in a future version. Please use `Model.fit`, which supports generators.\n",
            "  warnings.warn('`Model.fit_generator` is deprecated and '\n"
          ],
          "name": "stderr"
        },
        {
          "output_type": "stream",
          "text": [
            "Epoch 1/3\n",
            "16/16 [==============================] - ETA: 0s - loss: 3.2756 - accuracy: 0.0697WARNING:tensorflow:Your input ran out of data; interrupting training. Make sure that your dataset or generator can generate at least `steps_per_epoch * epochs` batches (in this case, 16 batches). You may need to use the repeat() function when building your dataset.\n",
            "16/16 [==============================] - 206s 13s/step - loss: 3.2727 - accuracy: 0.0729 - val_loss: 3.1040 - val_accuracy: 0.2538\n",
            "Epoch 2/3\n",
            "16/16 [==============================] - 1s 92ms/step - loss: 2.8915 - accuracy: 0.3411\n",
            "Epoch 3/3\n",
            "16/16 [==============================] - 1s 90ms/step - loss: 1.6768 - accuracy: 0.5377\n"
          ],
          "name": "stdout"
        },
        {
          "output_type": "execute_result",
          "data": {
            "text/plain": [
              "<tensorflow.python.keras.callbacks.History at 0x7f42d6d15a90>"
            ]
          },
          "metadata": {
            "tags": []
          },
          "execution_count": 5
        }
      ]
    },
    {
      "cell_type": "code",
      "metadata": {
        "id": "OpEeMKX4mLax"
      },
      "source": [
        "def get_result(result):\n",
        "    if result[0][0] == 1:\n",
        "        return('a')\n",
        "    elif result[0][1] == 1:\n",
        "        return ('b')\n",
        "    elif result[0][2] == 1:\n",
        "        return ('c')\n",
        "    elif result[0][3] == 1:\n",
        "        return ('d')\n",
        "    elif result[0][4] == 1:\n",
        "        return ('e')\n",
        "    elif result[0][5] == 1:\n",
        "        return ('f')\n",
        "    elif result[0][6] == 1:\n",
        "        return ('g')\n",
        "    elif result[0][7] == 1:\n",
        "        return ('h')\n",
        "    elif result[0][8] == 1:\n",
        "        return ('i')\n",
        "    elif result[0][9] == 1:\n",
        "        return ('j')\n",
        "    elif result[0][10] == 1:\n",
        "        return ('k')\n",
        "    elif result[0][11] == 1:\n",
        "        return ('l')\n",
        "    elif result[0][12] == 1:\n",
        "        return ('m')\n",
        "    elif result[0][13] == 1:\n",
        "        return ('n')\n",
        "    elif result[0][14] == 1:\n",
        "        return ('o')\n",
        "    elif result[0][15] == 1:\n",
        "        return ('p')\n",
        "    elif result[0][16] == 1:\n",
        "        return ('q')\n",
        "    elif result[0][17] == 1:\n",
        "        return ('r')\n",
        "    elif result[0][18] == 1:\n",
        "        return ('s')\n",
        "    elif result[0][19] == 1:\n",
        "        return ('t')\n",
        "    elif result[0][20] == 1:\n",
        "        return ('u')\n",
        "    elif result[0][21] == 1:\n",
        "        return ('v')\n",
        "    elif result[0][22] == 1:\n",
        "        return ('w')\n",
        "    elif result[0][23] == 1:\n",
        "        return ('x')\n",
        "    elif result[0][24] == 1:\n",
        "        return ('y')\n",
        "    elif result[0][25] == 1:\n",
        "        return ('z')"
      ],
      "execution_count": 6,
      "outputs": []
    },
    {
      "cell_type": "code",
      "metadata": {
        "colab": {
          "base_uri": "https://localhost:8080/",
          "height": 283
        },
        "id": "YgBGgBQEnOHS",
        "outputId": "983be362-20e9-480f-f8b3-74ab8ac9cb5d"
      },
      "source": [
        "filename = r'/content/drive/MyDrive/Training/a/4.png'\n",
        "test_image = image.load_img(filename, target_size = (32,32))\n",
        "plt.imshow(test_image)\n",
        "test_image = image.img_to_array(test_image)\n",
        "test_image = np.expand_dims(test_image, axis = 0)\n",
        "result = model.predict(test_image)\n",
        "result = get_result(result)\n",
        "print ('Predicted Alphabet is: {}'.format(result))"
      ],
      "execution_count": 8,
      "outputs": [
        {
          "output_type": "stream",
          "text": [
            "Predicted Alphabet is: a\n"
          ],
          "name": "stdout"
        },
        {
          "output_type": "display_data",
          "data": {
            "image/png": "[encoded data removed]",
            "text/plain": [
              "<Figure size 432x288 with 1 Axes>"
            ]
          },
          "metadata": {
            "tags": [],
            "needs_background": "light"
          }
        }
      ]
    },
    {
      "cell_type": "code",
      "metadata": {
        "id": "qr9qDYK7nbmL"
      },
      "source": [
        ""
      ],
      "execution_count": null,
      "outputs": []
    }
  ]
}